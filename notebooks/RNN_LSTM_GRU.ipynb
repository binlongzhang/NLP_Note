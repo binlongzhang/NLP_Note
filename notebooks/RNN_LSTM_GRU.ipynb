{
 "cells": [
  {
   "cell_type": "markdown",
   "id": "alternate-london",
   "metadata": {},
   "source": [
    "# RNN\n",
    "## 实例RNN对象\n",
    "- 参数一：input_size 输入张量的维度\n",
    "- 参数二：hidden_size 隐藏层的维度，隐藏层神经元数量\n",
    "- 参数三：num_layers 隐藏层的层数"
   ]
  },
  {
   "cell_type": "code",
   "execution_count": 1,
   "id": "union-logan",
   "metadata": {},
   "outputs": [],
   "source": [
    "# 导入若干工具包\n",
    "import torch\n",
    "import torch.nn as nn\n",
    "rnn = nn.RNN(5,6,1)"
   ]
  },
  {
   "cell_type": "markdown",
   "id": "delayed-recovery",
   "metadata": {},
   "source": [
    "## 设定输入的张量\n",
    "- 参数一：sequence_length 输入序列长度\n",
    "- 参数二：batch_size 批次的样本数\n",
    "- 参数三：input_size 输入张量x的维度"
   ]
  },
  {
   "cell_type": "code",
   "execution_count": 2,
   "id": "intimate-mechanics",
   "metadata": {},
   "outputs": [
    {
     "data": {
      "text/plain": [
       "tensor([[[-1.1239,  0.0812,  0.9445,  0.4554, -0.3374],\n",
       "         [ 2.0600, -1.5557,  0.2189,  1.0444,  1.0771],\n",
       "         [ 0.7512, -0.9386,  0.1125,  0.8114, -0.1118]]])"
      ]
     },
     "execution_count": 2,
     "metadata": {},
     "output_type": "execute_result"
    }
   ],
   "source": [
    "input1 = torch.randn(1,3,5)\n",
    "input1"
   ]
  },
  {
   "cell_type": "markdown",
   "id": "simple-classic",
   "metadata": {},
   "source": [
    "## 初始化h0\n",
    "- 参数一：num_layers * num_direction(层数*网络的方向数)\n",
    "- 参数二：batch_size (批次的样本数)\n",
    "- 参数三：hidden_size(隐藏层的维度)"
   ]
  },
  {
   "cell_type": "code",
   "execution_count": 3,
   "id": "focused-tribe",
   "metadata": {},
   "outputs": [],
   "source": [
    "h0 = torch.randn(1,3,6)"
   ]
  },
  {
   "cell_type": "markdown",
   "id": "specified-kitty",
   "metadata": {},
   "source": [
    "## 输入张量放入RNN"
   ]
  },
  {
   "cell_type": "code",
   "execution_count": 4,
   "id": "thousand-victory",
   "metadata": {},
   "outputs": [
    {
     "name": "stdout",
     "output_type": "stream",
     "text": [
      "tensor([[[-0.4167,  0.4908, -0.0222,  0.5291, -0.7819,  0.4041],\n",
      "         [-0.5373, -0.1269,  0.0631, -0.4625, -0.0240, -0.7355],\n",
      "         [ 0.4785, -0.2122,  0.5914,  0.3195, -0.1011, -0.0446]]],\n",
      "       grad_fn=<StackBackward>)\n",
      "torch.Size([1, 3, 6])\n"
     ]
    }
   ],
   "source": [
    "output,hn = rnn(input1,h0)\n",
    "\n",
    "print(output)\n",
    "print(output.shape)"
   ]
  },
  {
   "cell_type": "code",
   "execution_count": 5,
   "id": "equal-evolution",
   "metadata": {},
   "outputs": [
    {
     "name": "stdout",
     "output_type": "stream",
     "text": [
      "tensor([[[-0.4167,  0.4908, -0.0222,  0.5291, -0.7819,  0.4041],\n",
      "         [-0.5373, -0.1269,  0.0631, -0.4625, -0.0240, -0.7355],\n",
      "         [ 0.4785, -0.2122,  0.5914,  0.3195, -0.1011, -0.0446]]],\n",
      "       grad_fn=<StackBackward>)\n",
      "torch.Size([1, 3, 6])\n"
     ]
    }
   ],
   "source": [
    "print(hn)\n",
    "print(hn.shape)"
   ]
  },
  {
   "cell_type": "markdown",
   "id": "vocal-crash",
   "metadata": {},
   "source": [
    "# LSTM\n",
    "\n",
    "## torch.nn工具包中，通过torch.nn.LSTM调用"
   ]
  },
  {
   "cell_type": "markdown",
   "id": "empty-sense",
   "metadata": {},
   "source": [
    "## nn.LSTM参数\n",
    "- input_size:输入张量维度大小\n",
    "- hidden_size:隐层张量h的维度大小\n",
    "- num_layers:隐含层数量\n",
    "- bidirectional:是否使用双向LSTM默认不适用"
   ]
  },
  {
   "cell_type": "markdown",
   "id": "spoken-lottery",
   "metadata": {},
   "source": [
    "## nn.LSTM实例化参数\n",
    "- 输入张量x\n",
    "- h0：初始化的隐层张量h\n",
    "- c0: 初始化cell状态张量c"
   ]
  },
  {
   "cell_type": "code",
   "execution_count": 6,
   "id": "promising-rover",
   "metadata": {},
   "outputs": [],
   "source": [
    "import torch.nn as nn \n",
    "import torch\n",
    "rnn = nn.LSTM(5,6,2)\n",
    "\n",
    "input = torch.randn(1,3,5)\n",
    "h0 = torch.randn(2,3,6)\n",
    "c0 = torch.randn(2,3,6)\n",
    "\n",
    "output,(hn,cn) = rnn(input)"
   ]
  },
  {
   "cell_type": "code",
   "execution_count": 7,
   "id": "after-acceptance",
   "metadata": {},
   "outputs": [
    {
     "name": "stdout",
     "output_type": "stream",
     "text": [
      "tensor([[[-0.0993,  0.1888,  0.0688, -0.0448, -0.0474,  0.0458],\n",
      "         [-0.0769,  0.1827,  0.0554, -0.0454,  0.0100,  0.0699],\n",
      "         [-0.0626,  0.2078,  0.0723, -0.0673,  0.0232,  0.0629]]],\n",
      "       grad_fn=<StackBackward>)\n",
      "torch.Size([1, 3, 6])\n"
     ]
    }
   ],
   "source": [
    "print(output)\n",
    "print(output.shape)"
   ]
  },
  {
   "cell_type": "markdown",
   "id": "solid-tunisia",
   "metadata": {},
   "source": [
    "# GRU\n",
    "## torch.nn工具包中，通过torch.nn.GRU调用"
   ]
  },
  {
   "cell_type": "markdown",
   "id": "detailed-blackjack",
   "metadata": {},
   "source": [
    "## nn.GRU参数\n",
    "- input_size:输入张量维度大小\n",
    "- hidden_size:隐层张量h的维度大小\n",
    "- num_layers:隐含层数量\n",
    "- bidirectional:是否使用双向GRU默认不适用"
   ]
  },
  {
   "cell_type": "markdown",
   "id": "radio-reality",
   "metadata": {},
   "source": [
    "## nn.GRU实例化参数\n",
    "- input :输入张量x\n",
    "- h0：初始化的隐层张量h"
   ]
  },
  {
   "cell_type": "code",
   "execution_count": 8,
   "id": "weekly-jefferson",
   "metadata": {},
   "outputs": [],
   "source": [
    "# 使用示例\n",
    "import torch\n",
    "import torch.nn as nn\n",
    "\n",
    "rnn = nn.GRU(5,6,2)\n",
    "\n",
    "input = torch.randn(1,3,5)\n",
    "h0 = torch.randn(2,3,6)\n",
    "\n",
    "output,hn = rnn(input,h0)\n"
   ]
  },
  {
   "cell_type": "code",
   "execution_count": 9,
   "id": "coated-powell",
   "metadata": {},
   "outputs": [
    {
     "data": {
      "text/plain": [
       "tensor([[[ 0.0097, -0.2326, -0.1507,  0.1661,  0.3531,  0.4720],\n",
       "         [-0.7199, -0.1362, -0.1142,  0.6545,  0.0543, -0.6769],\n",
       "         [ 0.2696, -0.1318, -0.9313,  0.3376, -0.6559, -0.3761]]],\n",
       "       grad_fn=<StackBackward>)"
      ]
     },
     "execution_count": 9,
     "metadata": {},
     "output_type": "execute_result"
    }
   ],
   "source": [
    "output"
   ]
  },
  {
   "cell_type": "code",
   "execution_count": 10,
   "id": "related-memphis",
   "metadata": {},
   "outputs": [
    {
     "data": {
      "text/plain": [
       "tensor([[[ 0.6904, -0.5545,  0.1465, -0.7043,  0.0289,  0.3269],\n",
       "         [-0.5419, -0.8835, -0.1308,  0.4300,  0.5463, -0.2583],\n",
       "         [-0.6053,  0.4777,  0.7118, -0.0329, -0.1375, -0.9811]],\n",
       "\n",
       "        [[ 0.0097, -0.2326, -0.1507,  0.1661,  0.3531,  0.4720],\n",
       "         [-0.7199, -0.1362, -0.1142,  0.6545,  0.0543, -0.6769],\n",
       "         [ 0.2696, -0.1318, -0.9313,  0.3376, -0.6559, -0.3761]]],\n",
       "       grad_fn=<StackBackward>)"
      ]
     },
     "execution_count": 10,
     "metadata": {},
     "output_type": "execute_result"
    }
   ],
   "source": [
    "hn"
   ]
  }
 ],
 "metadata": {
  "kernelspec": {
   "display_name": "Python [conda env:sentimentAnalysis]",
   "language": "python",
   "name": "conda-env-sentimentAnalysis-py"
  },
  "language_info": {
   "codemirror_mode": {
    "name": "ipython",
    "version": 3
   },
   "file_extension": ".py",
   "mimetype": "text/x-python",
   "name": "python",
   "nbconvert_exporter": "python",
   "pygments_lexer": "ipython3",
   "version": "3.7.1"
  }
 },
 "nbformat": 4,
 "nbformat_minor": 5
}
