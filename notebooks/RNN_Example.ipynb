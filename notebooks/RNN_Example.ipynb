{
 "cells": [
  {
   "cell_type": "markdown",
   "id": "proof-marsh",
   "metadata": {},
   "source": [
    "# 实例RNN对象\n",
    "- 参数一：input_size 输入张量的维度\n",
    "- 参数二：hidden_size 隐藏层的维度，隐藏层神经元数量\n",
    "- 参数三：num_layers 隐藏层的层数"
   ]
  },
  {
   "cell_type": "code",
   "execution_count": 1,
   "id": "accepting-investigator",
   "metadata": {},
   "outputs": [],
   "source": [
    "# 导入若干工具包\n",
    "import torch\n",
    "import torch.nn as nn\n",
    "rnn = nn.RNN(5,6,1)"
   ]
  },
  {
   "cell_type": "markdown",
   "id": "optional-copying",
   "metadata": {},
   "source": [
    "# 设定输入的张量\n",
    "- 参数一：sequence_length 输入序列长度\n",
    "- 参数二：batch_size 批次的样本数\n",
    "- 参数三：input_size 输入张量x的维度"
   ]
  },
  {
   "cell_type": "code",
   "execution_count": 2,
   "id": "acceptable-comparative",
   "metadata": {},
   "outputs": [
    {
     "data": {
      "text/plain": [
       "tensor([[[-0.3464,  0.8518, -2.2995,  0.4830,  1.5814],\n",
       "         [ 0.2043, -1.3851,  0.0466, -0.1095, -0.8983],\n",
       "         [ 0.4096, -1.2553, -0.3282,  0.3360, -0.1071]]])"
      ]
     },
     "execution_count": 2,
     "metadata": {},
     "output_type": "execute_result"
    }
   ],
   "source": [
    "input1 = torch.randn(1,3,5)\n",
    "input1"
   ]
  },
  {
   "cell_type": "markdown",
   "id": "square-summit",
   "metadata": {},
   "source": [
    "# 初始化h0\n",
    "- 参数一：num_layers * num_direction(层数*网络的方向数)\n",
    "- 参数二：batch_size (批次的样本数)\n",
    "- 参数三：hidden_size(隐藏层的维度)"
   ]
  },
  {
   "cell_type": "code",
   "execution_count": 5,
   "id": "bigger-storage",
   "metadata": {},
   "outputs": [],
   "source": [
    "h0 = torch.randn(1,3,6)"
   ]
  },
  {
   "cell_type": "markdown",
   "id": "thirty-combat",
   "metadata": {},
   "source": [
    "# 输入张量放入RNN"
   ]
  },
  {
   "cell_type": "code",
   "execution_count": 6,
   "id": "presidential-application",
   "metadata": {},
   "outputs": [
    {
     "name": "stdout",
     "output_type": "stream",
     "text": [
      "tensor([[[ 0.2039,  0.7038, -0.5606,  0.1304, -0.8000,  0.0717],\n",
      "         [-0.7743,  0.4718,  0.3208, -0.7732, -0.2663, -0.2365],\n",
      "         [ 0.4058,  0.0165,  0.0714, -0.4580,  0.5429, -0.3457]]],\n",
      "       grad_fn=<StackBackward>)\n",
      "torch.Size([1, 3, 6])\n"
     ]
    }
   ],
   "source": [
    "output,hn = rnn(input1,h0)\n",
    "\n",
    "print(output)\n",
    "print(output.shape)"
   ]
  },
  {
   "cell_type": "code",
   "execution_count": 7,
   "id": "piano-product",
   "metadata": {},
   "outputs": [
    {
     "name": "stdout",
     "output_type": "stream",
     "text": [
      "tensor([[[ 0.2039,  0.7038, -0.5606,  0.1304, -0.8000,  0.0717],\n",
      "         [-0.7743,  0.4718,  0.3208, -0.7732, -0.2663, -0.2365],\n",
      "         [ 0.4058,  0.0165,  0.0714, -0.4580,  0.5429, -0.3457]]],\n",
      "       grad_fn=<StackBackward>)\n",
      "torch.Size([1, 3, 6])\n"
     ]
    }
   ],
   "source": [
    "print(hn)\n",
    "print(hn.shape)"
   ]
  },
  {
   "cell_type": "code",
   "execution_count": null,
   "id": "comparative-shower",
   "metadata": {},
   "outputs": [],
   "source": []
  }
 ],
 "metadata": {
  "kernelspec": {
   "display_name": "Python [conda env:sentimentAnalysis]",
   "language": "python",
   "name": "conda-env-sentimentAnalysis-py"
  },
  "language_info": {
   "codemirror_mode": {
    "name": "ipython",
    "version": 3
   },
   "file_extension": ".py",
   "mimetype": "text/x-python",
   "name": "python",
   "nbconvert_exporter": "python",
   "pygments_lexer": "ipython3",
   "version": "3.7.1"
  }
 },
 "nbformat": 4,
 "nbformat_minor": 5
}
