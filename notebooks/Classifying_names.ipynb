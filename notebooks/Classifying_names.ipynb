{
 "cells": [
  {
   "cell_type": "markdown",
   "id": "instructional-carpet",
   "metadata": {},
   "source": [
    "# 字符级的人名分类，来源于官网教程\n",
    "\n",
    "https://pytorch.org/tutorials/intermediate/char_rnn_classification_tutorial.html"
   ]
  },
  {
   "cell_type": "code",
   "execution_count": 1,
   "id": "narrow-manitoba",
   "metadata": {},
   "outputs": [],
   "source": [
    "from io import open\n",
    "import glob\n",
    "import string\n",
    "import unicodedata\n",
    "import random\n",
    "import time\n",
    "import os\n",
    "import math\n",
    "import torch\n",
    "import torch.nn as nn"
   ]
  },
  {
   "cell_type": "markdown",
   "id": "sexual-confidentiality",
   "metadata": {},
   "source": [
    "# 获取常用字符和标点\n"
   ]
  },
  {
   "cell_type": "code",
   "execution_count": 2,
   "id": "delayed-department",
   "metadata": {},
   "outputs": [
    {
     "name": "stdout",
     "output_type": "stream",
     "text": [
      "n_letters: 57\n"
     ]
    }
   ],
   "source": [
    "# 获取常用字符和标点\n",
    "all_letters = string.ascii_letters + \" .,;'\"\n",
    "n_letters = len(all_letters)\n",
    "print('n_letters:',n_letters)"
   ]
  },
  {
   "cell_type": "markdown",
   "id": "accompanied-sixth",
   "metadata": {},
   "source": [
    "# unicode转ascii函数"
   ]
  },
  {
   "cell_type": "code",
   "execution_count": 3,
   "id": "documentary-state",
   "metadata": {},
   "outputs": [],
   "source": [
    "# 暂时不考虑编码，这个函数作用是去掉一些语言中的重音标记\n",
    "def unicodeToAscii(s):\n",
    "    return ''.join(\n",
    "       c for c in unicodedata.normalize('NFD',s)\n",
    "        if unicodedata.category(c) != 'MN' and c in all_letters\n",
    "    )"
   ]
  },
  {
   "cell_type": "code",
   "execution_count": 4,
   "id": "burning-beach",
   "metadata": {},
   "outputs": [
    {
     "name": "stdout",
     "output_type": "stream",
     "text": [
      "Slusarski\n"
     ]
    }
   ],
   "source": [
    "print(unicodeToAscii('Ślusàrski'))"
   ]
  },
  {
   "cell_type": "markdown",
   "id": "color-solution",
   "metadata": {},
   "source": [
    "# 构建类别字典，每个类别对应一个list的人名数据"
   ]
  },
  {
   "cell_type": "code",
   "execution_count": 5,
   "id": "recognized-serial",
   "metadata": {},
   "outputs": [
    {
     "name": "stdout",
     "output_type": "stream",
     "text": [
      "国家列表\n"
     ]
    },
    {
     "data": {
      "text/plain": [
       "['Arabic',\n",
       " 'Chinese',\n",
       " 'Czech',\n",
       " 'Dutch',\n",
       " 'English',\n",
       " 'French',\n",
       " 'German',\n",
       " 'Greek',\n",
       " 'Irish',\n",
       " 'Italian',\n",
       " 'Japanese',\n",
       " 'Korean',\n",
       " 'Polish',\n",
       " 'Portuguese',\n",
       " 'Russian',\n",
       " 'Scottish',\n",
       " 'Spanish',\n",
       " 'Vietnamese']"
      ]
     },
     "execution_count": 5,
     "metadata": {},
     "output_type": "execute_result"
    }
   ],
   "source": [
    "category_lines = {}\n",
    "all_categories = []\n",
    "\n",
    "def findFiles(path):\n",
    "    return glob.glob(path)\n",
    "\n",
    "def readLines(filename):\n",
    "    lines = open(filename,encoding='utf=8').read().strip().split('\\n')\n",
    "    return [unicodeToAscii(line) for line in lines]\n",
    "\n",
    "for filename in findFiles('../data/data_name/names/*.txt'):\n",
    "    category = os.path.splitext(os.path.basename(filename))[0]\n",
    "    all_categories.append(category)\n",
    "    lines = readLines(filename)\n",
    "    category_lines[category] = lines\n",
    "\n",
    "n_categories = len(all_categories)\n",
    "print('国家列表')\n",
    "all_categories"
   ]
  },
  {
   "cell_type": "code",
   "execution_count": 6,
   "id": "lasting-blackberry",
   "metadata": {},
   "outputs": [
    {
     "name": "stdout",
     "output_type": "stream",
     "text": [
      "['Abandonato', 'Abatangelo', 'Abatantuono', 'Abate', 'Abategiovanni']\n"
     ]
    }
   ],
   "source": [
    "print(category_lines['Italian'][:5])"
   ]
  },
  {
   "cell_type": "markdown",
   "id": "coated-links",
   "metadata": {},
   "source": [
    "# 名字转为tensors"
   ]
  },
  {
   "cell_type": "code",
   "execution_count": 7,
   "id": "attempted-booking",
   "metadata": {},
   "outputs": [],
   "source": [
    "def letterToIndex(letter):\n",
    "    return all_letters.find(letter)\n",
    "\n",
    "def letterToTensor(letter):\n",
    "    tensor = torch.zeros(1,n_letters)\n",
    "    tensor[0][letterToIndex(letter)] = 1\n",
    "    return tensor\n",
    "\n",
    "# 每个letter对应一个2d矩阵，多余的一维由于pytorch假设输入都是按批次的，因此此处假设batch为1\n",
    "def lineToTensor(line):\n",
    "    tensor = torch.zeros(len(line),1,n_letters)\n",
    "    for li,letter in enumerate(line):\n",
    "        tensor[li][0][letterToIndex(letter)] = 1\n",
    "    return tensor "
   ]
  },
  {
   "cell_type": "code",
   "execution_count": 8,
   "id": "worldwide-peoples",
   "metadata": {},
   "outputs": [
    {
     "name": "stdout",
     "output_type": "stream",
     "text": [
      "tensor([[0., 0., 0., 0., 0., 0., 0., 0., 0., 0., 0., 0., 0., 0., 0., 0., 0., 0.,\n",
      "         0., 0., 0., 0., 0., 0., 0., 0., 0., 0., 0., 0., 0., 0., 0., 0., 0., 1.,\n",
      "         0., 0., 0., 0., 0., 0., 0., 0., 0., 0., 0., 0., 0., 0., 0., 0., 0., 0.,\n",
      "         0., 0., 0.]])\n"
     ]
    }
   ],
   "source": [
    "print(letterToTensor('J'))"
   ]
  },
  {
   "cell_type": "code",
   "execution_count": 9,
   "id": "intended-mapping",
   "metadata": {},
   "outputs": [
    {
     "name": "stdout",
     "output_type": "stream",
     "text": [
      "torch.Size([5, 1, 57])\n"
     ]
    }
   ],
   "source": [
    "print(lineToTensor('Jones').size())"
   ]
  },
  {
   "cell_type": "markdown",
   "id": "complicated-borough",
   "metadata": {},
   "source": [
    "# 构建网络\n",
    "\n",
    "![img](./Classifying_names_1.png)"
   ]
  },
  {
   "cell_type": "code",
   "execution_count": 10,
   "id": "secondary-colony",
   "metadata": {},
   "outputs": [],
   "source": [
    "class RNN(nn.Module):\n",
    "    def __init__(self,input_size,hidden_size,output_size):\n",
    "        super().__init__()\n",
    "        self.hidden_size = hidden_size\n",
    "        \n",
    "        self.i2h = nn.Linear(input_size+hidden_size,hidden_size)\n",
    "        self.i2o = nn.Linear(input_size+hidden_size,output_size)\n",
    "        self.softmax = nn.LogSoftmax(dim=1)\n",
    "        \n",
    "    def forward(self,input,hidden):\n",
    "        combined = torch.cat((input,hidden),1)\n",
    "        hidden = self.i2h(combined)\n",
    "        output = self.i2o(combined)\n",
    "        output = self.softmax(output)\n",
    "        return output,hidden\n",
    "    \n",
    "    def initHidden(self):\n",
    "        return torch.zeros(1,self.hidden_size)"
   ]
  },
  {
   "cell_type": "markdown",
   "id": "demanding-example",
   "metadata": {},
   "source": [
    "# 测试网络"
   ]
  },
  {
   "cell_type": "code",
   "execution_count": 11,
   "id": "usual-saver",
   "metadata": {},
   "outputs": [],
   "source": [
    "n_hidden = 128\n",
    "rnn = RNN(n_letters,n_hidden,n_categories)"
   ]
  },
  {
   "cell_type": "code",
   "execution_count": 12,
   "id": "yellow-appointment",
   "metadata": {},
   "outputs": [
    {
     "data": {
      "text/plain": [
       "RNN(\n",
       "  (i2h): Linear(in_features=185, out_features=128, bias=True)\n",
       "  (i2o): Linear(in_features=185, out_features=18, bias=True)\n",
       "  (softmax): LogSoftmax(dim=1)\n",
       ")"
      ]
     },
     "execution_count": 12,
     "metadata": {},
     "output_type": "execute_result"
    }
   ],
   "source": [
    "rnn"
   ]
  },
  {
   "cell_type": "code",
   "execution_count": 13,
   "id": "violent-routine",
   "metadata": {},
   "outputs": [
    {
     "name": "stdout",
     "output_type": "stream",
     "text": [
      "input_size:\n",
      "torch.Size([1, 57])\n",
      "tensor([[-2.7980, -2.8928, -2.8509, -2.9251, -2.8263, -2.9838, -2.9996, -2.9020,\n",
      "         -2.7853, -2.8744, -2.8476, -2.7923, -2.9333, -2.9512, -2.9226, -2.9269,\n",
      "         -2.8984, -2.9515]], grad_fn=<LogSoftmaxBackward>)\n",
      "tensor([[ 0.0070,  0.0837,  0.0311,  0.0337,  0.0106, -0.0094, -0.0104,  0.0250,\n",
      "          0.0861, -0.0604, -0.0809,  0.0120,  0.0261,  0.0199,  0.0569,  0.0327,\n",
      "         -0.0698, -0.0098, -0.0027, -0.0136,  0.0554,  0.0460,  0.0917, -0.1133,\n",
      "          0.1091,  0.0659, -0.0575,  0.0656,  0.0486,  0.0700, -0.0733,  0.0046,\n",
      "         -0.0310,  0.0906, -0.0028,  0.0139, -0.0463,  0.0619, -0.0271,  0.0151,\n",
      "          0.1104,  0.0601,  0.0486, -0.0559,  0.0250,  0.0029, -0.0011, -0.0599,\n",
      "          0.0445, -0.0517,  0.1120, -0.0900, -0.0659, -0.1203, -0.0585, -0.0043,\n",
      "          0.0599,  0.0129,  0.0557,  0.0176, -0.0873, -0.0063, -0.0685, -0.0038,\n",
      "          0.0486, -0.0662, -0.1029, -0.0654, -0.1009, -0.0284, -0.1249,  0.0672,\n",
      "          0.0434,  0.0311, -0.0226, -0.1162,  0.0467, -0.1074, -0.1050,  0.0187,\n",
      "          0.1002, -0.0436,  0.0364, -0.0471,  0.0154, -0.0597,  0.1259, -0.0817,\n",
      "          0.0733, -0.0350,  0.0031,  0.0945,  0.0573, -0.0665,  0.0507,  0.0309,\n",
      "          0.0148, -0.0479,  0.0511,  0.1152,  0.0362, -0.0591,  0.0975, -0.0442,\n",
      "         -0.1194, -0.0025, -0.0307, -0.0196,  0.0033, -0.0079, -0.0295, -0.0145,\n",
      "          0.0014,  0.0704, -0.0148, -0.0454, -0.0705, -0.1329, -0.0075, -0.0696,\n",
      "         -0.0863,  0.0951, -0.0049, -0.0518, -0.0101,  0.0492,  0.0469,  0.0431]],\n",
      "       grad_fn=<AddmmBackward>)\n"
     ]
    }
   ],
   "source": [
    "input = letterToTensor('A')\n",
    "hidden = torch.zeros(1,n_hidden)\n",
    "\n",
    "output, next_hidden = rnn(input,hidden)\n",
    "print(\"input_size:\\n\" + str(input.size()))\n",
    "print(output)\n",
    "print(next_hidden)"
   ]
  },
  {
   "cell_type": "code",
   "execution_count": 14,
   "id": "lightweight-academy",
   "metadata": {},
   "outputs": [
    {
     "name": "stdout",
     "output_type": "stream",
     "text": [
      "torch.Size([6, 1, 57])\n",
      "tensor([[-2.7980, -2.8928, -2.8509, -2.9251, -2.8263, -2.9838, -2.9996, -2.9020,\n",
      "         -2.7853, -2.8744, -2.8476, -2.7923, -2.9333, -2.9512, -2.9226, -2.9269,\n",
      "         -2.8984, -2.9515]], grad_fn=<LogSoftmaxBackward>)\n",
      "tensor([[ 0.0070,  0.0837,  0.0311,  0.0337,  0.0106, -0.0094, -0.0104,  0.0250,\n",
      "          0.0861, -0.0604, -0.0809,  0.0120,  0.0261,  0.0199,  0.0569,  0.0327,\n",
      "         -0.0698, -0.0098, -0.0027, -0.0136,  0.0554,  0.0460,  0.0917, -0.1133,\n",
      "          0.1091,  0.0659, -0.0575,  0.0656,  0.0486,  0.0700, -0.0733,  0.0046,\n",
      "         -0.0310,  0.0906, -0.0028,  0.0139, -0.0463,  0.0619, -0.0271,  0.0151,\n",
      "          0.1104,  0.0601,  0.0486, -0.0559,  0.0250,  0.0029, -0.0011, -0.0599,\n",
      "          0.0445, -0.0517,  0.1120, -0.0900, -0.0659, -0.1203, -0.0585, -0.0043,\n",
      "          0.0599,  0.0129,  0.0557,  0.0176, -0.0873, -0.0063, -0.0685, -0.0038,\n",
      "          0.0486, -0.0662, -0.1029, -0.0654, -0.1009, -0.0284, -0.1249,  0.0672,\n",
      "          0.0434,  0.0311, -0.0226, -0.1162,  0.0467, -0.1074, -0.1050,  0.0187,\n",
      "          0.1002, -0.0436,  0.0364, -0.0471,  0.0154, -0.0597,  0.1259, -0.0817,\n",
      "          0.0733, -0.0350,  0.0031,  0.0945,  0.0573, -0.0665,  0.0507,  0.0309,\n",
      "          0.0148, -0.0479,  0.0511,  0.1152,  0.0362, -0.0591,  0.0975, -0.0442,\n",
      "         -0.1194, -0.0025, -0.0307, -0.0196,  0.0033, -0.0079, -0.0295, -0.0145,\n",
      "          0.0014,  0.0704, -0.0148, -0.0454, -0.0705, -0.1329, -0.0075, -0.0696,\n",
      "         -0.0863,  0.0951, -0.0049, -0.0518, -0.0101,  0.0492,  0.0469,  0.0431]],\n",
      "       grad_fn=<AddmmBackward>)\n"
     ]
    }
   ],
   "source": [
    "input = lineToTensor('ALbert')\n",
    "hidden = torch.zeros(1,n_hidden)\n",
    "\n",
    "output,next_hidden = rnn(input[0],hidden)\n",
    "\n",
    "print(input.size())\n",
    "print(output)\n",
    "print(next_hidden)"
   ]
  },
  {
   "cell_type": "markdown",
   "id": "pleasant-string",
   "metadata": {},
   "source": [
    "# 获取训练数据"
   ]
  },
  {
   "cell_type": "code",
   "execution_count": 15,
   "id": "passing-microphone",
   "metadata": {},
   "outputs": [
    {
     "name": "stdout",
     "output_type": "stream",
     "text": [
      "('Irish', 8)\n"
     ]
    }
   ],
   "source": [
    "# 展示类别\n",
    "def categoryFromOutput(output):\n",
    "    top_n,top_i = output.topk(1)\n",
    "    category_i = top_i[0].item()\n",
    "    return all_categories[category_i],category_i\n",
    "\n",
    "print(categoryFromOutput(output))"
   ]
  },
  {
   "cell_type": "code",
   "execution_count": 16,
   "id": "cooked-toner",
   "metadata": {},
   "outputs": [
    {
     "name": "stdout",
     "output_type": "stream",
     "text": [
      "category =  Russian /line =  Hachirov\n",
      "category =  Irish /line =  O'Reilly\n",
      "category =  Italian /line =  Adessi\n",
      "category =  Korean /line =  Bang\n",
      "category =  Irish /line =  Clark\n",
      "category =  Japanese /line =  Nakatoni\n",
      "category =  Russian /line =  Zhavrid\n",
      "category =  German /line =  Kunze\n",
      "category =  Polish /line =  Wojewodka\n",
      "category =  German /line =  Neumann\n"
     ]
    }
   ],
   "source": [
    "# 获取训练样例\n",
    "import random\n",
    "def randomChoice(l):\n",
    "    return l[random.randint(0,len(l)-1)]\n",
    "\n",
    "def randomTrainingExample():\n",
    "    category = randomChoice(all_categories)\n",
    "    line = randomChoice(category_lines[category])\n",
    "    category_tensor = torch.tensor([all_categories.index(category)],dtype=torch.long)\n",
    "    line_tensor = lineToTensor(line)\n",
    "    return category,line,category_tensor,line_tensor\n",
    "\n",
    "for i in range(10):\n",
    "    category,line,category_tensor,line_tensor = randomTrainingExample()\n",
    "    print('category = ',category,'/line = ',line)"
   ]
  },
  {
   "cell_type": "markdown",
   "id": "robust-compression",
   "metadata": {},
   "source": [
    "# 训练网络"
   ]
  },
  {
   "cell_type": "code",
   "execution_count": 17,
   "id": "collaborative-priest",
   "metadata": {},
   "outputs": [],
   "source": [
    "criterion = nn.NLLLoss()\n",
    "learning_rate = 0.005 # 过高会梯度爆炸，过低会梯度消失\n",
    "\n",
    "def train(category_tensor,line_tensor):\n",
    "    hidden = rnn.initHidden()\n",
    "    \n",
    "    rnn.zero_grad()\n",
    "    for i in range(line_tensor.size()[0]):\n",
    "        output,hidden = rnn(line_tensor[i],hidden)\n",
    "        \n",
    "    loss = criterion(output,category_tensor)\n",
    "    loss.backward()\n",
    "    \n",
    "    for p in rnn.parameters():\n",
    "        p.data.add_(p.grad.data,alpha=-learning_rate)\n",
    "    return output,loss.item()"
   ]
  },
  {
   "cell_type": "code",
   "execution_count": 18,
   "id": "temporal-armstrong",
   "metadata": {},
   "outputs": [
    {
     "name": "stdout",
     "output_type": "stream",
     "text": [
      "5000 5% (0m 15s) 2.8749 Naylor / French ✗ (English)\n",
      "10000 10% (0m 29s) 2.3844 Koma / Japanese ✗ (Czech)\n",
      "15000 15% (0m 41s) 2.3849 Watt / German ✗ (Scottish)\n",
      "20000 20% (0m 55s) 1.3955 Fencl / Czech ✓\n",
      "25000 25% (1m 7s) 1.6823 Sartre / Portuguese ✗ (French)\n",
      "30000 30% (1m 19s) 1.0220 So / Korean ✓\n",
      "35000 35% (1m 31s) 0.0086 Kotsiopoulos / Greek ✓\n",
      "40000 40% (1m 42s) 3.1147 Johnston / English ✗ (Scottish)\n",
      "45000 45% (1m 54s) 0.4900 Stevenson / Scottish ✓\n",
      "50000 50% (2m 5s) 1.4809 Janosik / Arabic ✗ (Czech)\n",
      "55000 55% (2m 16s) 2.7740 Bastl / Scottish ✗ (Czech)\n",
      "60000 60% (2m 28s) 1.4970 Torres / Portuguese ✗ (Spanish)\n",
      "65000 65% (2m 40s) 1.4933 Habicht / German ✓\n",
      "70000 70% (2m 52s) 2.3172 Oquendo / Italian ✗ (Spanish)\n",
      "75000 75% (3m 4s) 0.9453 Simpson / Scottish ✓\n",
      "80000 80% (3m 16s) 1.1653 Terajima / Japanese ✓\n",
      "85000 85% (3m 29s) 0.1271 Chou / Korean ✓\n",
      "90000 90% (3m 41s) 0.5690 Ruadh / Irish ✓\n",
      "95000 95% (3m 52s) 0.3322 Gronchi / Italian ✓\n",
      "100000 100% (4m 4s) 3.6889 Lu / Vietnamese ✗ (Chinese)\n"
     ]
    }
   ],
   "source": [
    "import time\n",
    "import math\n",
    "\n",
    "n_iters = 100000\n",
    "print_every = 5000\n",
    "plot_every = 1000\n",
    "\n",
    "current_loss = 0\n",
    "all_losses = []\n",
    "\n",
    "def timeSince(since):\n",
    "    now = time.time()\n",
    "    s = now - since\n",
    "    m = math.floor(s / 60)\n",
    "    s -= m * 60\n",
    "    return '%dm %ds' % (m, s)\n",
    "\n",
    "start = time.time()\n",
    "\n",
    "for iter in range(1,n_iters+1):\n",
    "    category,line,category_tensor,line_tensor = randomTrainingExample()\n",
    "    output,loss = train(category_tensor,line_tensor)\n",
    "    current_loss += loss\n",
    "    \n",
    "    if iter % print_every == 0:\n",
    "        guess,guess_i = categoryFromOutput(output)\n",
    "        correct = '✓' if guess == category else '✗ (%s)' % category\n",
    "        print('%d %d%% (%s) %.4f %s / %s %s' % (iter, iter / n_iters * 100, timeSince(start), loss, line, guess, correct))\n",
    "        \n",
    "    if iter % plot_every == 0:\n",
    "        all_losses.append(current_loss / plot_every)\n",
    "        current_loss = 0"
   ]
  },
  {
   "cell_type": "markdown",
   "id": "reliable-syndication",
   "metadata": {},
   "source": [
    "# 损失函数可视化"
   ]
  },
  {
   "cell_type": "code",
   "execution_count": 20,
   "id": "imported-canberra",
   "metadata": {},
   "outputs": [
    {
     "data": {
      "text/plain": [
       "[<matplotlib.lines.Line2D at 0x2d47b40e8d0>]"
      ]
     },
     "execution_count": 20,
     "metadata": {},
     "output_type": "execute_result"
    },
    {
     "data": {
      "image/png": "[encoded data removed]",
      "text/plain": [
       "<Figure size 432x288 with 1 Axes>"
      ]
     },
     "metadata": {
      "needs_background": "light"
     },
     "output_type": "display_data"
    }
   ],
   "source": [
    "import matplotlib.pyplot as plt\n",
    "import matplotlib.ticker as ticker\n",
    "\n",
    "plt.figure()\n",
    "plt.plot(all_losses)"
   ]
  },
  {
   "cell_type": "markdown",
   "id": "dependent-holder",
   "metadata": {},
   "source": [
    "# 结果评价"
   ]
  },
  {
   "cell_type": "code",
   "execution_count": 22,
   "id": "visible-catalog",
   "metadata": {},
   "outputs": [
    {
     "name": "stderr",
     "output_type": "stream",
     "text": [
      "E:\\Anaconda3\\envs\\sentimentAnalysis\\lib\\site-packages\\ipykernel_launcher.py:28: UserWarning: FixedFormatter should only be used together with FixedLocator\n",
      "E:\\Anaconda3\\envs\\sentimentAnalysis\\lib\\site-packages\\ipykernel_launcher.py:29: UserWarning: FixedFormatter should only be used together with FixedLocator\n"
     ]
    },
    {
     "data": {
      "image/png": "[encoded data removed]",
      "text/plain": [
       "<Figure size 432x288 with 2 Axes>"
      ]
     },
     "metadata": {
      "needs_background": "light"
     },
     "output_type": "display_data"
    }
   ],
   "source": [
    "confusion = torch.zeros(n_categories,n_categories)\n",
    "n_confusion = 10000\n",
    "\n",
    "def evaluate(line_tensor):\n",
    "    \n",
    "    hidden = rnn.initHidden()\n",
    "    \n",
    "    for i in range(line_tensor.size()[0]):\n",
    "        output,hidden = rnn(line_tensor[i],hidden)\n",
    "        \n",
    "    return output\n",
    "\n",
    "for i in range(n_confusion):\n",
    "    category,line,category_tensor,line_tensor = randomTrainingExample()\n",
    "    output = evaluate(line_tensor)\n",
    "    guess,guess_i = categoryFromOutput(output)\n",
    "    category_i = all_categories.index(category)\n",
    "    confusion[category_i][guess_i] += 1\n",
    "    \n",
    "for i in range(n_categories):\n",
    "    confusion[i] = confusion[i]/confusion[i].sum()\n",
    "    \n",
    "fig = plt.figure()\n",
    "ax = fig.add_subplot(111)\n",
    "cax = ax.matshow(confusion.numpy())\n",
    "fig.colorbar(cax)\n",
    "\n",
    "ax.set_xticklabels([''] + all_categories, rotation=90)\n",
    "ax.set_yticklabels([''] + all_categories)\n",
    "\n",
    "ax.xaxis.set_major_locator(ticker.MultipleLocator(1))\n",
    "ax.yaxis.set_major_locator(ticker.MultipleLocator(1))\n",
    "\n",
    "plt.show()"
   ]
  },
  {
   "cell_type": "markdown",
   "id": "clear-governor",
   "metadata": {},
   "source": [
    "# 运行用户输入"
   ]
  },
  {
   "cell_type": "code",
   "execution_count": 31,
   "id": "fleet-reply",
   "metadata": {},
   "outputs": [],
   "source": [
    "def predict(input_line,n_predictions=3):\n",
    "    print('\\n> %s' % input_line)\n",
    "    with torch.no_grad():\n",
    "        \n",
    "        output = evaluate(lineToTensor(input_line))\n",
    "        \n",
    "        topv,topi = output.topk(n_predictions,1,True)\n",
    "        predictions = []\n",
    "        \n",
    "        for i in range(n_predictions):\n",
    "            value = topv[0][i].item()\n",
    "            category_index = topi[0][i].item()\n",
    "            print('(%.2f) %s ' % (value,all_categories[category_index]))\n",
    "            predictions.append([value,all_categories[category_index]])"
   ]
  },
  {
   "cell_type": "code",
   "execution_count": 40,
   "id": "narrow-battle",
   "metadata": {},
   "outputs": [
    {
     "name": "stdout",
     "output_type": "stream",
     "text": [
      "\n",
      "> jack\n",
      "(-1.18) Czech \n",
      "(-1.62) German \n",
      "(-2.11) Polish \n",
      "\n",
      "> bin\n",
      "(-1.30) Russian \n",
      "(-1.98) French \n",
      "(-2.12) Irish \n"
     ]
    }
   ],
   "source": [
    "predict('jack')\n",
    "predict('bin')"
   ]
  }
 ],
 "metadata": {
  "kernelspec": {
   "display_name": "Python [conda env:sentimentAnalysis]",
   "language": "python",
   "name": "conda-env-sentimentAnalysis-py"
  },
  "language_info": {
   "codemirror_mode": {
    "name": "ipython",
    "version": 3
   },
   "file_extension": ".py",
   "mimetype": "text/x-python",
   "name": "python",
   "nbconvert_exporter": "python",
   "pygments_lexer": "ipython3",
   "version": "3.7.1"
  }
 },
 "nbformat": 4,
 "nbformat_minor": 5
}
